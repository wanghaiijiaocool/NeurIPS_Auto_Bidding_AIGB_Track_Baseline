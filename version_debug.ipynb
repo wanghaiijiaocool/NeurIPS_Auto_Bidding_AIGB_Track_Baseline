{
 "cells": [
  {
   "cell_type": "markdown",
   "metadata": {},
   "source": [
    "### this is my baseline for bidding\n",
    "* the final goal is to implement the following plan\n",
    "    * baseline: with decision transformer\n",
    "    * test for 1:\n",
    "    * final: generatvie model with flow"
   ]
  },
  {
   "cell_type": "markdown",
   "metadata": {},
   "source": [
    "#"
   ]
  },
  {
   "cell_type": "code",
   "execution_count": null,
   "metadata": {
    "vscode": {
     "languageId": "plaintext"
    }
   },
   "outputs": [],
   "source": []
  }
 ],
 "metadata": {
  "language_info": {
   "name": "python"
  }
 },
 "nbformat": 4,
 "nbformat_minor": 2
}
