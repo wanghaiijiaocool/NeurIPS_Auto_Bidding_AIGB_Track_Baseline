{
 "cells": [
  {
   "cell_type": "code",
   "execution_count": 1,
   "metadata": {},
   "outputs": [],
   "source": [
    "import pandas as pd"
   ]
  },
  {
   "cell_type": "code",
   "execution_count": 37,
   "metadata": {},
   "outputs": [
    {
     "name": "stdout",
     "output_type": "stream",
     "text": [
      "period-7.csv  raw_data.pickle\n"
     ]
    }
   ],
   "source": [
    "!ls ./data/traffic"
   ]
  },
  {
   "cell_type": "code",
   "execution_count": 38,
   "metadata": {},
   "outputs": [],
   "source": [
    "data_original = pd.read_csv('./data/traffic/period-7.csv')"
   ]
  },
  {
   "cell_type": "code",
   "execution_count": 43,
   "metadata": {},
   "outputs": [
    {
     "data": {
      "text/plain": [
       "Index(['deliveryPeriodIndex', 'advertiserNumber', 'advertiserCategoryIndex',\n",
       "       'budget', 'CPAConstraint', 'timeStepIndex', 'remainingBudget',\n",
       "       'pvIndex', 'pValue', 'pValueSigma', 'bid', 'xi', 'adSlot', 'cost',\n",
       "       'isExposed', 'conversionAction', 'leastWinningCost', 'isEnd'],\n",
       "      dtype='object')"
      ]
     },
     "execution_count": 43,
     "metadata": {},
     "output_type": "execute_result"
    }
   ],
   "source": [
    "data_original.columns"
   ]
  },
  {
   "cell_type": "code",
   "execution_count": 47,
   "metadata": {},
   "outputs": [
    {
     "data": {
      "text/plain": [
       "deliveryPeriodIndex\n",
       "7.0    499976\n",
       "Name: count, dtype: int64"
      ]
     },
     "execution_count": 47,
     "metadata": {},
     "output_type": "execute_result"
    }
   ],
   "source": [
    "data_original[data_original.advertiserNumber==3.0].deliveryPeriodIndex.value_counts()"
   ]
  },
  {
   "cell_type": "code",
   "execution_count": 3,
   "metadata": {},
   "outputs": [],
   "source": [
    "data = pd.read_csv('./data/trajectory/trajectory_data.csv')"
   ]
  },
  {
   "cell_type": "code",
   "execution_count": 8,
   "metadata": {},
   "outputs": [
    {
     "data": {
      "text/plain": [
       "Index(['deliveryPeriodIndex', 'advertiserNumber', 'advertiserCategoryIndex',\n",
       "       'budget', 'CPAConstraint', 'realAllCost', 'realAllConversion',\n",
       "       'timeStepIndex', 'state', 'action', 'reward', 'reward_continuous',\n",
       "       'done', 'next_state'],\n",
       "      dtype='object')"
      ]
     },
     "execution_count": 8,
     "metadata": {},
     "output_type": "execute_result"
    }
   ],
   "source": [
    "data.columns"
   ]
  },
  {
   "cell_type": "code",
   "execution_count": 17,
   "metadata": {},
   "outputs": [
    {
     "data": {
      "text/plain": [
       "6882048"
      ]
     },
     "execution_count": 17,
     "metadata": {},
     "output_type": "execute_result"
    }
   ],
   "source": [
    "len(data)"
   ]
  },
  {
   "cell_type": "code",
   "execution_count": 42,
   "metadata": {},
   "outputs": [
    {
     "data": {
      "text/html": [
       "<div>\n",
       "<style scoped>\n",
       "    .dataframe tbody tr th:only-of-type {\n",
       "        vertical-align: middle;\n",
       "    }\n",
       "\n",
       "    .dataframe tbody tr th {\n",
       "        vertical-align: top;\n",
       "    }\n",
       "\n",
       "    .dataframe thead th {\n",
       "        text-align: right;\n",
       "    }\n",
       "</style>\n",
       "<table border=\"1\" class=\"dataframe\">\n",
       "  <thead>\n",
       "    <tr style=\"text-align: right;\">\n",
       "      <th></th>\n",
       "      <th>reward</th>\n",
       "      <th>reward_continuous</th>\n",
       "      <th>CPAConstraint</th>\n",
       "    </tr>\n",
       "  </thead>\n",
       "  <tbody>\n",
       "    <tr>\n",
       "      <th>0</th>\n",
       "      <td>0.0</td>\n",
       "      <td>0.039192</td>\n",
       "      <td>8.0</td>\n",
       "    </tr>\n",
       "    <tr>\n",
       "      <th>1</th>\n",
       "      <td>0.0</td>\n",
       "      <td>0.000000</td>\n",
       "      <td>8.0</td>\n",
       "    </tr>\n",
       "    <tr>\n",
       "      <th>2</th>\n",
       "      <td>0.0</td>\n",
       "      <td>0.000000</td>\n",
       "      <td>8.0</td>\n",
       "    </tr>\n",
       "    <tr>\n",
       "      <th>3</th>\n",
       "      <td>0.0</td>\n",
       "      <td>0.000000</td>\n",
       "      <td>8.0</td>\n",
       "    </tr>\n",
       "    <tr>\n",
       "      <th>4</th>\n",
       "      <td>0.0</td>\n",
       "      <td>0.000000</td>\n",
       "      <td>8.0</td>\n",
       "    </tr>\n",
       "    <tr>\n",
       "      <th>...</th>\n",
       "      <td>...</td>\n",
       "      <td>...</td>\n",
       "      <td>...</td>\n",
       "    </tr>\n",
       "    <tr>\n",
       "      <th>6882043</th>\n",
       "      <td>0.0</td>\n",
       "      <td>0.189831</td>\n",
       "      <td>12.0</td>\n",
       "    </tr>\n",
       "    <tr>\n",
       "      <th>6882044</th>\n",
       "      <td>1.0</td>\n",
       "      <td>0.725730</td>\n",
       "      <td>12.0</td>\n",
       "    </tr>\n",
       "    <tr>\n",
       "      <th>6882045</th>\n",
       "      <td>2.0</td>\n",
       "      <td>1.207341</td>\n",
       "      <td>12.0</td>\n",
       "    </tr>\n",
       "    <tr>\n",
       "      <th>6882046</th>\n",
       "      <td>1.0</td>\n",
       "      <td>0.552763</td>\n",
       "      <td>12.0</td>\n",
       "    </tr>\n",
       "    <tr>\n",
       "      <th>6882047</th>\n",
       "      <td>8.0</td>\n",
       "      <td>7.010841</td>\n",
       "      <td>12.0</td>\n",
       "    </tr>\n",
       "  </tbody>\n",
       "</table>\n",
       "<p>6882048 rows × 3 columns</p>\n",
       "</div>"
      ],
      "text/plain": [
       "         reward  reward_continuous  CPAConstraint\n",
       "0           0.0           0.039192            8.0\n",
       "1           0.0           0.000000            8.0\n",
       "2           0.0           0.000000            8.0\n",
       "3           0.0           0.000000            8.0\n",
       "4           0.0           0.000000            8.0\n",
       "...         ...                ...            ...\n",
       "6882043     0.0           0.189831           12.0\n",
       "6882044     1.0           0.725730           12.0\n",
       "6882045     2.0           1.207341           12.0\n",
       "6882046     1.0           0.552763           12.0\n",
       "6882047     8.0           7.010841           12.0\n",
       "\n",
       "[6882048 rows x 3 columns]"
      ]
     },
     "execution_count": 42,
     "metadata": {},
     "output_type": "execute_result"
    }
   ],
   "source": [
    "data[['reward','reward_continuous','CPAConstraint']]#.reward.value_counts().sort_values()"
   ]
  },
  {
   "cell_type": "code",
   "execution_count": 39,
   "metadata": {},
   "outputs": [],
   "source": [
    "#data.groupby(['advertiserNumber']).deliveryPeriodIndex.nunique()\n"
   ]
  },
  {
   "cell_type": "code",
   "execution_count": 23,
   "metadata": {},
   "outputs": [
    {
     "data": {
      "text/plain": [
       "0          (1.0, 1.0, 0.0, 0.0, 0.0, 0.0, 0.0, 0.0, 0.0, ...\n",
       "1          (0.9791666666666666, 0.999727305468613, 0.0325...\n",
       "2          (0.9583333333333334, 0.999727305468613, 0.0325...\n",
       "3          (0.9375, 0.999727305468613, 0.0326023072947438...\n",
       "4          (0.9166666666666666, 0.999727305468613, 0.0325...\n",
       "                                 ...                        \n",
       "6880123    (0.10416666666666667, 0.6413460329424552, 0.03...\n",
       "6880124    (0.08333333333333333, 0.6406042564071707, 0.03...\n",
       "6880125    (0.0625, 0.6406042564071707, 0.036492590618311...\n",
       "6880126    (0.041666666666666664, 0.6406042564071707, 0.0...\n",
       "6880127    (0.020833333333333332, 0.6405105375378791, 0.0...\n",
       "Name: state, Length: 1147008, dtype: object"
      ]
     },
     "execution_count": 23,
     "metadata": {},
     "output_type": "execute_result"
    }
   ],
   "source": [
    "data[ data.advertiserCategoryIndex==0.0 ]['state']"
   ]
  },
  {
   "cell_type": "code",
   "execution_count": null,
   "metadata": {},
   "outputs": [],
   "source": []
  }
 ],
 "metadata": {
  "kernelspec": {
   "display_name": "LLM",
   "language": "python",
   "name": "python3"
  },
  "language_info": {
   "codemirror_mode": {
    "name": "ipython",
    "version": 3
   },
   "file_extension": ".py",
   "mimetype": "text/x-python",
   "name": "python",
   "nbconvert_exporter": "python",
   "pygments_lexer": "ipython3",
   "version": "3.11.0"
  }
 },
 "nbformat": 4,
 "nbformat_minor": 2
}
