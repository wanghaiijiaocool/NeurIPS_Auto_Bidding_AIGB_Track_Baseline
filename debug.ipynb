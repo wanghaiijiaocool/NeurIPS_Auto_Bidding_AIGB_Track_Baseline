{
 "cells": [
  {
   "cell_type": "code",
   "execution_count": 1,
   "metadata": {},
   "outputs": [],
   "source": [
    "import pandas as pd"
   ]
  },
  {
   "cell_type": "code",
   "execution_count": 37,
   "metadata": {},
   "outputs": [
    {
     "name": "stdout",
     "output_type": "stream",
     "text": [
      "period-7.csv  raw_data.pickle\n"
     ]
    }
   ],
   "source": [
    "!ls ./data/traffic"
   ]
  },
  {
   "cell_type": "code",
   "execution_count": null,
   "metadata": {},
   "outputs": [],
   "source": [
    "data_original = pd.read_csv('./data/trajectory/trajectory_data.csv')"
   ]
  },
  {
   "cell_type": "code",
   "execution_count": 3,
   "metadata": {},
   "outputs": [],
   "source": [
    "data = pd.read_csv('./data/trajectory/trajectory_data.csv')"
   ]
  },
  {
   "cell_type": "code",
   "execution_count": 8,
   "metadata": {},
   "outputs": [
    {
     "data": {
      "text/plain": [
       "Index(['deliveryPeriodIndex', 'advertiserNumber', 'advertiserCategoryIndex',\n",
       "       'budget', 'CPAConstraint', 'realAllCost', 'realAllConversion',\n",
       "       'timeStepIndex', 'state', 'action', 'reward', 'reward_continuous',\n",
       "       'done', 'next_state'],\n",
       "      dtype='object')"
      ]
     },
     "execution_count": 8,
     "metadata": {},
     "output_type": "execute_result"
    }
   ],
   "source": [
    "data.columns"
   ]
  },
  {
   "cell_type": "code",
   "execution_count": 17,
   "metadata": {},
   "outputs": [
    {
     "data": {
      "text/plain": [
       "6882048"
      ]
     },
     "execution_count": 17,
     "metadata": {},
     "output_type": "execute_result"
    }
   ],
   "source": [
    "len(data)"
   ]
  },
  {
   "cell_type": "code",
   "execution_count": 35,
   "metadata": {},
   "outputs": [
    {
     "data": {
      "text/plain": [
       "reward\n",
       "104.0          1\n",
       "118.0          1\n",
       "111.0          1\n",
       "133.0          1\n",
       "121.0          1\n",
       "          ...   \n",
       "4.0         2792\n",
       "3.0         3224\n",
       "2.0         4146\n",
       "1.0         6178\n",
       "0.0      1092914\n",
       "Name: count, Length: 127, dtype: int64"
      ]
     },
     "execution_count": 35,
     "metadata": {},
     "output_type": "execute_result"
    }
   ],
   "source": [
    "data[data.done==1].reward.value_counts().sort_values()"
   ]
  },
  {
   "cell_type": "code",
   "execution_count": 31,
   "metadata": {},
   "outputs": [
    {
     "data": {
      "text/plain": [
       "advertiserNumber\n",
       "0.0     2987\n",
       "1.0     2987\n",
       "2.0     2987\n",
       "3.0     2987\n",
       "4.0     2987\n",
       "5.0     2987\n",
       "6.0     2987\n",
       "7.0     2987\n",
       "8.0     2987\n",
       "9.0     2987\n",
       "10.0    2987\n",
       "11.0    2987\n",
       "12.0    2987\n",
       "13.0    2987\n",
       "14.0    2987\n",
       "15.0    2987\n",
       "16.0    2987\n",
       "17.0    2987\n",
       "18.0    2987\n",
       "19.0    2987\n",
       "20.0    2987\n",
       "21.0    2987\n",
       "22.0    2987\n",
       "23.0    2987\n",
       "24.0    2987\n",
       "25.0    2987\n",
       "26.0    2987\n",
       "27.0    2987\n",
       "28.0    2987\n",
       "29.0    2987\n",
       "30.0    2987\n",
       "31.0    2987\n",
       "32.0    2987\n",
       "33.0    2987\n",
       "34.0    2987\n",
       "35.0    2987\n",
       "36.0    2987\n",
       "37.0    2987\n",
       "38.0    2987\n",
       "39.0    2987\n",
       "40.0    2987\n",
       "41.0    2987\n",
       "42.0    2987\n",
       "43.0    2987\n",
       "44.0    2987\n",
       "45.0    2987\n",
       "46.0    2987\n",
       "47.0    2987\n",
       "Name: deliveryPeriodIndex, dtype: int64"
      ]
     },
     "execution_count": 31,
     "metadata": {},
     "output_type": "execute_result"
    }
   ],
   "source": [
    "data.groupby(['advertiserNumber']).deliveryPeriodIndex.nunique()\n",
    "\n"
   ]
  },
  {
   "cell_type": "code",
   "execution_count": 23,
   "metadata": {},
   "outputs": [
    {
     "data": {
      "text/plain": [
       "0          (1.0, 1.0, 0.0, 0.0, 0.0, 0.0, 0.0, 0.0, 0.0, ...\n",
       "1          (0.9791666666666666, 0.999727305468613, 0.0325...\n",
       "2          (0.9583333333333334, 0.999727305468613, 0.0325...\n",
       "3          (0.9375, 0.999727305468613, 0.0326023072947438...\n",
       "4          (0.9166666666666666, 0.999727305468613, 0.0325...\n",
       "                                 ...                        \n",
       "6880123    (0.10416666666666667, 0.6413460329424552, 0.03...\n",
       "6880124    (0.08333333333333333, 0.6406042564071707, 0.03...\n",
       "6880125    (0.0625, 0.6406042564071707, 0.036492590618311...\n",
       "6880126    (0.041666666666666664, 0.6406042564071707, 0.0...\n",
       "6880127    (0.020833333333333332, 0.6405105375378791, 0.0...\n",
       "Name: state, Length: 1147008, dtype: object"
      ]
     },
     "execution_count": 23,
     "metadata": {},
     "output_type": "execute_result"
    }
   ],
   "source": [
    "data[ data.advertiserCategoryIndex==0.0 ]['state']"
   ]
  },
  {
   "cell_type": "code",
   "execution_count": null,
   "metadata": {},
   "outputs": [],
   "source": []
  }
 ],
 "metadata": {
  "kernelspec": {
   "display_name": "LLM",
   "language": "python",
   "name": "python3"
  },
  "language_info": {
   "codemirror_mode": {
    "name": "ipython",
    "version": 3
   },
   "file_extension": ".py",
   "mimetype": "text/x-python",
   "name": "python",
   "nbconvert_exporter": "python",
   "pygments_lexer": "ipython3",
   "version": "3.11.0"
  }
 },
 "nbformat": 4,
 "nbformat_minor": 2
}
